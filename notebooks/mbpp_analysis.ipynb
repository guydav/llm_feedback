{
 "cells": [
  {
   "cell_type": "code",
   "execution_count": 1,
   "metadata": {},
   "outputs": [],
   "source": [
    "%autoreload 2"
   ]
  },
  {
   "cell_type": "code",
   "execution_count": 2,
   "metadata": {},
   "outputs": [],
   "source": [
    "from collections import defaultdict\n",
    "import os\n",
    "import sys\n",
    "\n",
    "import matplotlib.pyplot as plt\n",
    "import numpy as np\n",
    "\n",
    "sys.path.append(os.path.abspath('..'))\n",
    "\n",
    "import llm_feedback.pilot.tasks as tasks\n",
    "from llm_feedback.utils.io import read_json\n"
   ]
  },
  {
   "cell_type": "code",
   "execution_count": 3,
   "metadata": {},
   "outputs": [],
   "source": [
    "MBPP_OUTPUT_PATH = '../outputs/gpt-3.5-turbo-0301__gpt-3.5-turbo-0301__gpt-3.5-turbo-0301__mbpp__train__metrics.json'\n",
    "\n",
    "mbpp_outputs = read_json(MBPP_OUTPUT_PATH)"
   ]
  },
  {
   "cell_type": "code",
   "execution_count": 9,
   "metadata": {},
   "outputs": [],
   "source": [
    "TEST_ID_KEYS = ['0', '1', '2']\n",
    "INITIAL_SOLUTION = 'initial_solution'\n",
    "REFINEMENT = 'refinement'\n",
    "COMPLETION_ID_KEY = 'completion_id'\n",
    "RESULT_FIELD = 'result'\n",
    "PASSED_FIELD = 'passed'\n",
    "\n",
    "accuracy_by_problem = {INITIAL_SOLUTION: [], REFINEMENT: []}\n",
    "all_problem_result_summaries = []\n",
    "\n",
    "missing_names = defaultdict(set)\n",
    "exception_types = defaultdict(set)\n",
    "\n",
    "for problem_id, problem_results in enumerate(mbpp_outputs):\n",
    "    problem_results_summary = {INITIAL_SOLUTION: [], REFINEMENT: []}\n",
    "    for test_id in TEST_ID_KEYS:\n",
    "        test_results = problem_results[test_id]\n",
    "        for _, code_test_results in test_results:\n",
    "            code_type = INITIAL_SOLUTION if code_test_results[COMPLETION_ID_KEY] == 0 else REFINEMENT\n",
    "            code_test_result = code_test_results[RESULT_FIELD]\n",
    "            if code_test_result is None:\n",
    "                print(f'Problem {problem_id}, test {test_id} has result None')\n",
    "            if 'is not defined' in code_test_result.lower():\n",
    "                # print(f'Problem {problem_id}, test {test_id} has defintion issues: {code_test_result}')\n",
    "                name_index = code_test_result.find('name')\n",
    "                if name_index != -1:\n",
    "                    space_index = code_test_result.find(' ', name_index)\n",
    "                    next_space_index = code_test_result.find(' ', space_index + 1)\n",
    "                    missing_name = code_test_result[space_index + 1:next_space_index]\n",
    "                    missing_names[missing_name.replace(\"'\", '')].add(problem_id)\n",
    "            if '<class' in code_test_result:\n",
    "                exception_class_index = code_test_result.find('<class')\n",
    "                exception_start = code_test_result.find(\"'\", exception_class_index)\n",
    "                exception_end = code_test_result.find(\"'\", exception_start + 1)\n",
    "                exception_type = code_test_result[exception_start + 1:exception_end]\n",
    "                exception_types[exception_type].add(problem_id)\n",
    "            code_test_passed = code_test_results[PASSED_FIELD]\n",
    "            if code_test_passed is None:\n",
    "                print(f'Problem {problem_id}, test {test_id} has passed None')\n",
    "                code_test_passed = False\n",
    "            problem_results_summary[code_type].append(code_test_passed)\n",
    "\n",
    "    all_problem_result_summaries.append(problem_results_summary)\n",
    "    accuracy_by_problem[INITIAL_SOLUTION].append(np.mean(problem_results_summary[INITIAL_SOLUTION]))\n",
    "    accuracy_by_problem[REFINEMENT].append(np.mean(problem_results_summary[REFINEMENT]))\n",
    "            \n"
   ]
  },
  {
   "cell_type": "code",
   "execution_count": 10,
   "metadata": {},
   "outputs": [
    {
     "data": {
      "text/plain": [
       "defaultdict(set,\n",
       "            {'Pair': {0},\n",
       "             'radian_degree': {5},\n",
       "             'bell_Number': {7},\n",
       "             'cummulative_sum': {13},\n",
       "             'Split': {28},\n",
       "             'pair_OR_Sum': {32},\n",
       "             'sample_nam': {38},\n",
       "             're': {39},\n",
       "             'is_nonagonal': {40},\n",
       "             'grouping_dictionary': {52},\n",
       "             'sum_Of_Primes': {84}})"
      ]
     },
     "execution_count": 10,
     "metadata": {},
     "output_type": "execute_result"
    }
   ],
   "source": [
    "missing_names"
   ]
  },
  {
   "cell_type": "code",
   "execution_count": 55,
   "metadata": {},
   "outputs": [
    {
     "data": {
      "text/plain": [
       "defaultdict(set,\n",
       "            {'NameError': {0, 5, 7, 13, 28, 32, 38, 39, 40, 52, 84},\n",
       "             'AssertionError': {1,\n",
       "              2,\n",
       "              8,\n",
       "              11,\n",
       "              16,\n",
       "              18,\n",
       "              19,\n",
       "              25,\n",
       "              29,\n",
       "              30,\n",
       "              31,\n",
       "              35,\n",
       "              37,\n",
       "              39,\n",
       "              41,\n",
       "              51,\n",
       "              62,\n",
       "              63,\n",
       "              67,\n",
       "              68,\n",
       "              69,\n",
       "              73,\n",
       "              76,\n",
       "              83,\n",
       "              89,\n",
       "              98},\n",
       "             'SyntaxError': {3, 57, 58, 85},\n",
       "             'ZeroDivisionError': {16},\n",
       "             'TypeError': {34, 52},\n",
       "             'NotImplementedError': {70}})"
      ]
     },
     "execution_count": 55,
     "metadata": {},
     "output_type": "execute_result"
    }
   ],
   "source": [
    "exception_types"
   ]
  },
  {
   "cell_type": "code",
   "execution_count": 21,
   "metadata": {},
   "outputs": [
    {
     "data": {
      "text/plain": [
       "{'initial_solution': 0.7466666666666667, 'refinement': 0.6833333333333332}"
      ]
     },
     "execution_count": 21,
     "metadata": {},
     "output_type": "execute_result"
    }
   ],
   "source": [
    "accuracy_by_solution_type = {k: np.mean(v) for k, v in accuracy_by_problem.items()}\n",
    "accuracy_by_solution_type"
   ]
  },
  {
   "cell_type": "code",
   "execution_count": 22,
   "metadata": {},
   "outputs": [
    {
     "data": {
      "text/plain": [
       "{'initial_solution': 0.7, 'refinement': 0.64}"
      ]
     },
     "execution_count": 22,
     "metadata": {},
     "output_type": "execute_result"
    }
   ],
   "source": [
    "full_accuracy_rate_by_solution_type = {k: np.mean(np.array(v) == 1.0) for k, v in accuracy_by_problem.items()}\n",
    "full_accuracy_rate_by_solution_type"
   ]
  },
  {
   "cell_type": "code",
   "execution_count": 23,
   "metadata": {},
   "outputs": [
    {
     "data": {
      "text/plain": [
       "(array([ 1.        , -1.        , -1.        , -1.        ,  0.66666667,\n",
       "        -1.        , -1.        , -1.        , -1.        , -1.        ,\n",
       "         1.        , -1.        ,  1.        , -1.        , -0.33333333,\n",
       "        -1.        ,  1.        ,  0.33333333]),\n",
       " array([ 3,  5,  7, 13, 18, 28, 30, 31, 32, 40, 57, 63, 67, 73, 76, 84, 85,\n",
       "        89]),\n",
       " 18)"
      ]
     },
     "execution_count": 23,
     "metadata": {},
     "output_type": "execute_result"
    }
   ],
   "source": [
    "feedback_acuracy_change_by_problem = np.array([accuracy_by_problem[REFINEMENT][i] - accuracy_by_problem[INITIAL_SOLUTION][i] for i in range(len(accuracy_by_problem[REFINEMENT]))])\n",
    "feedback_change_indices = np.where(feedback_acuracy_change_by_problem != 0)[0]\n",
    "feedback_acuracy_change_by_problem[feedback_change_indices], feedback_change_indices, len(feedback_change_indices)"
   ]
  },
  {
   "cell_type": "code",
   "execution_count": 36,
   "metadata": {},
   "outputs": [
    {
     "name": "stdout",
     "output_type": "stream",
     "text": [
      "5 OK. The solution is correct and passes the unit tests.\n",
      "7 OK.\n",
      "13 OK.\n",
      "28 OK.\n",
      "30 The given solution replaces whitespaces with an underscore. However, the task description asks to replace both whitespaces and underscores with each other. You need to add an additional regex to replace underscores with whitespaces.\n",
      "31 OK.\n",
      "32 OK\n",
      "40 OK\n",
      "63 The solution is almost correct, but it fails to calculate the correct average for input 4. Instead of dividing the sum by n/2, it should divide it by (n/2)+1.\n",
      "73 OK.\n",
      "76 The function correctly checks if the sum of angles is 180 and if all angles are positive, but it doesn't check if the sum of any two angles is greater than the third angle, which is the condition for a valid triangle. Add this check to the function.\n",
      "84 OK.\n"
     ]
    }
   ],
   "source": [
    "for i, delta in enumerate(feedback_acuracy_change_by_problem):\n",
    "    if delta < 0:\n",
    "        print(i, mbpp_outputs[i]['feedback'])"
   ]
  },
  {
   "cell_type": "code",
   "execution_count": 110,
   "metadata": {},
   "outputs": [
    {
     "data": {
      "text/plain": [
       "{3, 57, 58, 85}"
      ]
     },
     "execution_count": 110,
     "metadata": {},
     "output_type": "execute_result"
    }
   ],
   "source": [
    "# SyntaxError, ZeroDivisionError, TypeError, NotImplementedError\n",
    "# Indices to re-check: 34, 52, 57, 85\n",
    "exception_types['SyntaxError']"
   ]
  },
  {
   "cell_type": "code",
   "execution_count": 112,
   "metadata": {},
   "outputs": [
    {
     "name": "stdout",
     "output_type": "stream",
     "text": [
      "Write a function to find the item with maximum occurrences in a given list.\n",
      "def max_occurrences(lst):\n",
      "    counts = {}\n",
      "    for item in lst:\n",
      "        if item in counts:\n",
      "            counts[item] += 1\n",
      "        else:\n",
      "            counts[item] = 1\n",
      "    max_count = max(counts.values())\n",
      "    for key, value in counts.items():\n",
      "        if value == max_count:\n",
      "            return key\n",
      "OK.\n",
      "def max_occurrences(lst):\n",
      "    counts = {}\n",
      "    for item in lst:\n",
      "        counts[item] = counts.get(item, 0) + 1\n",
      "    max_count = max(counts.values())\n",
      "    for key, value in counts.items():\n",
      "        if value == max_count:\n",
      "            return key\n",
      "assert max_occurrences([2,3,8,4,7,9,8,2,6,5,1,6,1,2,3,4,6,9,1,2])==2\n",
      "[\"failed (<class 'SyntaxError'>): ('Line 5: Augmented assignment of object items and slices is not allowed.',)\", 'passed']\n",
      "assert max_occurrences([1, 3,5, 7,1, 3,13, 15, 17,5, 7,9,1, 11])==1\n",
      "[\"failed (<class 'SyntaxError'>): ('Line 5: Augmented assignment of object items and slices is not allowed.',)\", 'passed']\n",
      "assert max_occurrences([1, 2, 3,2, 4, 5,1, 1, 1])==1\n",
      "[\"failed (<class 'SyntaxError'>): ('Line 5: Augmented assignment of object items and slices is not allowed.',)\", 'passed']\n"
     ]
    }
   ],
   "source": [
    "i =57\n",
    "print(mbpp_outputs[i]['text'])\n",
    "print(mbpp_outputs[i]['initial_solution'])\n",
    "print(mbpp_outputs[i]['feedback'])\n",
    "print(mbpp_outputs[i]['refinement'])\n",
    "\n",
    "for test_id in TEST_ID_KEYS:\n",
    "    print(mbpp_outputs[i][f'test_list_{test_id}'])\n",
    "    results = [test_results[1]['result'] for test_results in mbpp_outputs[i][test_id]]\n",
    "    print(results)\n"
   ]
  },
  {
   "cell_type": "code",
   "execution_count": 92,
   "metadata": {},
   "outputs": [],
   "source": [
    "import heapq\n",
    "\n",
    "def heap_sort(lst):\n",
    "    heap = []\n",
    "    for value in lst:\n",
    "        heapq.heappush(heap, value)\n",
    "    \n",
    "    ordered = []\n",
    "    while heap:\n",
    "        ordered.append(heapq.heappop(heap))\n",
    "    \n",
    "    return ordered\n",
    "\n",
    "assert heap_sort([1, 3, 5, 7, 9, 2, 4, 6, 8, 0])==[0, 1, 2, 3, 4, 5, 6, 7, 8, 9]\n",
    "assert heap_sort([25, 35, 22, 85, 14, 65, 75, 25, 58])==[14, 22, 25, 25, 35, 58, 65, 75, 85]\n",
    "assert heap_sort( [7, 1, 9, 5])==[1,5,7,9]\n"
   ]
  },
  {
   "cell_type": "code",
   "execution_count": null,
   "metadata": {},
   "outputs": [],
   "source": [
    "mbpp_outputs[i]['0']"
   ]
  },
  {
   "cell_type": "code",
   "execution_count": 35,
   "metadata": {},
   "outputs": [
    {
     "data": {
      "image/png": "[encoded data removed]",
      "text/plain": [
       "<Figure size 640x480 with 1 Axes>"
      ]
     },
     "metadata": {},
     "output_type": "display_data"
    },
    {
     "data": {
      "image/png": "[encoded data removed]",
      "text/plain": [
       "<Figure size 640x480 with 1 Axes>"
      ]
     },
     "metadata": {},
     "output_type": "display_data"
    }
   ],
   "source": [
    "plt.hist(feedback_acuracy_change_by_problem, bins=20)\n",
    "plt.show()\n",
    "plt.hist(feedback_acuracy_change_by_problem[feedback_change_indices])\n",
    "plt.title('Change in test pass rate after feedback')\n",
    "plt.ylabel('Count')\n",
    "plt.xlabel('Change in test pass rate')\n",
    "plt.show()"
   ]
  },
  {
   "cell_type": "code",
   "execution_count": 116,
   "metadata": {},
   "outputs": [
    {
     "data": {
      "application/vnd.jupyter.widget-view+json": {
       "model_id": "377fe18bacde40cca24fe65d4932c3e6",
       "version_major": 2,
       "version_minor": 0
      },
      "text/plain": [
       "Downloading builder script: 0.00B [00:00, ?B/s]"
      ]
     },
     "metadata": {},
     "output_type": "display_data"
    }
   ],
   "source": [
    "from evaluate import load\n",
    "import re\n",
    "code_eval = load(\"guydav/restrictedpython_code_eval\")\n",
    "markdown_pattern = re.compile(r\"```\\w*\")\n",
    "\n",
    "import os\n",
    "os.environ[\"HF_ALLOW_CODE_EVAL\"] = '1'\n",
    "\n",
    "DEFAULT_ADDITIONAL_GLOBALS = {\n",
    "    'all': all,\n",
    "    'dict': dict,\n",
    "    'filter': filter,\n",
    "    'map': map,\n",
    "    'max': max,\n",
    "    'sum': sum,\n",
    "}"
   ]
  },
  {
   "cell_type": "code",
   "execution_count": 117,
   "metadata": {},
   "outputs": [
    {
     "name": "stdout",
     "output_type": "stream",
     "text": [
      "def Repeat(x):\n",
      "    _size = len(x)\n",
      "    repeated = []\n",
      "    for i in range(_size):\n",
      "        k = i + 1\n",
      "        for j in range(k, _size):\n",
      "            if x[i] == x[j] and x[i] not in repeated:\n",
      "                repeated.append(x[i])\n",
      "    return repeated\n",
      "\n",
      "print(Repeat([10, 20, 30, 20, 20, 30, 40, 50, -20, 60, 60, -20, -20]))\n",
      "def find_duplicates(x):\n",
      "    _size = len(x)\n",
      "    repeated = []\n",
      "    for i in range(_size):\n",
      "        if x[i] in x[i+1:] and x[i] not in repeated:\n",
      "            repeated.append(x[i])\n",
      "    return repeated\n",
      "\n",
      "print(find_duplicates([10, 20, 30, 20, 20, 30, 40, 50, -20, 60, 60, -20, -20]))\n"
     ]
    },
    {
     "data": {
      "text/plain": [
       "defaultdict(list,\n",
       "            {0: [(0,\n",
       "               {'task_id': 0,\n",
       "                'passed': True,\n",
       "                'result': 'passed',\n",
       "                'completion_id': 0}),\n",
       "              (1,\n",
       "               {'task_id': 0,\n",
       "                'passed': False,\n",
       "                'result': \"failed (<class 'NameError'>): name 'Repeat' is not defined\",\n",
       "                'completion_id': 1})],\n",
       "             1: [(0,\n",
       "               {'task_id': 1,\n",
       "                'passed': True,\n",
       "                'result': 'passed',\n",
       "                'completion_id': 0}),\n",
       "              (1,\n",
       "               {'task_id': 1,\n",
       "                'passed': False,\n",
       "                'result': \"failed (<class 'NameError'>): name 'Repeat' is not defined\",\n",
       "                'completion_id': 1})],\n",
       "             2: [(0,\n",
       "               {'task_id': 2,\n",
       "                'passed': True,\n",
       "                'result': 'passed',\n",
       "                'completion_id': 0}),\n",
       "              (1,\n",
       "               {'task_id': 2,\n",
       "                'passed': False,\n",
       "                'result': \"failed (<class 'NameError'>): name 'Repeat' is not defined\",\n",
       "                'completion_id': 1})]})"
      ]
     },
     "execution_count": 117,
     "metadata": {},
     "output_type": "execute_result"
    }
   ],
   "source": [
    "# Indices to re-check: 57, 85\n",
    "\n",
    "\n",
    "output = mbpp_outputs[58]\n",
    "\n",
    "test_cases = [output[key] for key in ('test_list_0', 'test_list_1', 'test_list_2')]\n",
    "solutions = [output['initial_solution'], output['refinement']]\n",
    "for solution in solutions:\n",
    "    print(solution)\n",
    "solutions = [markdown_pattern.sub('', solution).strip() for solution in solutions]\n",
    "r = code_eval.compute(\n",
    "    references=test_cases, \n",
    "    predictions=[solutions] * len(test_cases), \n",
    "    k=[len(solutions)],\n",
    "    allowed_imports=['typing', 'collections', 'math', 're', 'heapq'],\n",
    "    additional_globals=DEFAULT_ADDITIONAL_GLOBALS,\n",
    "    allow_str_format=True,\n",
    "    allow_underscore_variable_names=True,\n",
    "    )[1]  # type: ignore\n",
    "\n",
    "r"
   ]
  },
  {
   "cell_type": "code",
   "execution_count": null,
   "metadata": {},
   "outputs": [],
   "source": [
    "solutions"
   ]
  }
 ],
 "metadata": {
  "kernelspec": {
   "display_name": "llm",
   "language": "python",
   "name": "python3"
  },
  "language_info": {
   "codemirror_mode": {
    "name": "ipython",
    "version": 3
   },
   "file_extension": ".py",
   "mimetype": "text/x-python",
   "name": "python",
   "nbconvert_exporter": "python",
   "pygments_lexer": "ipython3",
   "version": "3.10.11"
  },
  "orig_nbformat": 4
 },
 "nbformat": 4,
 "nbformat_minor": 2
}
