{
 "cells": [
  {
   "cell_type": "code",
   "execution_count": 3,
   "metadata": {},
   "outputs": [],
   "source": [
    "%autoreload 2"
   ]
  },
  {
   "cell_type": "code",
   "execution_count": 18,
   "metadata": {},
   "outputs": [],
   "source": [
    "from collections import defaultdict\n",
    "import copy\n",
    "import os\n",
    "import sys\n",
    "\n",
    "from IPython.display import display, Markdown, HTML\n",
    "from Levenshtein import distance as _edit_distance\n",
    "import matplotlib.pyplot as plt\n",
    "import numpy as np\n",
    "from scipy import stats\n",
    "\n",
    "sys.path.append(os.path.abspath('..'))\n",
    "\n",
    "import llm_feedback.pilot.tasks as tasks\n",
    "from llm_feedback.pilot.tasks import mbpp\n",
    "from llm_feedback.utils.io import read_json\n"
   ]
  },
  {
   "cell_type": "code",
   "execution_count": 5,
   "metadata": {},
   "outputs": [],
   "source": [
    "MBPP_OUTPUT_PATH = '../outputs/gpt-3.5-turbo-0613__gpt-3.5-turbo-0613__gpt-3.5-turbo-0613__mbpp-test-gen__train__metrics.jsonl'\n",
    "\n",
    "mbpp_outputs = read_json(MBPP_OUTPUT_PATH)"
   ]
  },
  {
   "cell_type": "code",
   "execution_count": 6,
   "metadata": {},
   "outputs": [
    {
     "name": "stdout",
     "output_type": "stream",
     "text": [
      "initial_solution gold_test accuracy: 0.795\n",
      "initial_solution model_test accuracy: 0.7192043650793651\n",
      "gold_code gold_test accuracy: 1.0\n",
      "gold_code model_test accuracy: 0.6858293650793651\n",
      "3.89 2.1349238862310758 3 16\n",
      "Problems with fewest model tests:\n",
      "Problem 0: 3\n",
      "Problem 65: 3\n",
      "Problem 64: 3\n",
      "Problem 62: 3\n",
      "Problem 61: 3\n",
      "Problem 60: 3\n",
      "Problem 59: 3\n",
      "Problem 58: 3\n",
      "Problem 66: 3\n",
      "Problem 57: 3\n"
     ]
    }
   ],
   "source": [
    "# TEST_ID_KEYS = ['0', '1', '2']\n",
    "GOLD_TEST_KEYS = ('test_list_0', 'test_list_1', 'test_list_2')\n",
    "INITIAL_SOLUTION = 'initial_solution'\n",
    "GOLD_CODE = 'gold_code'\n",
    "COMPLETION_ID_KEY = 'completion_id'\n",
    "RESULT_FIELD = 'result'\n",
    "PASSED_FIELD = 'passed'\n",
    "GOLD_TEST = 'gold_test'\n",
    "MODEL_TEST = 'model_test'\n",
    "\n",
    "accuracy_by_problem = {INITIAL_SOLUTION: {GOLD_TEST: [], MODEL_TEST: []}, GOLD_CODE: {GOLD_TEST: [], MODEL_TEST: []}}\n",
    "all_problem_result_summaries = []\n",
    "num_model_tests_by_problem = []\n",
    "\n",
    "missing_names = defaultdict(set)\n",
    "exception_types = defaultdict(set)\n",
    "\n",
    "for problem_id, problem_results in enumerate(mbpp_outputs):\n",
    "    problem_results_summary = {INITIAL_SOLUTION: {GOLD_TEST: [], MODEL_TEST: []}, GOLD_CODE: {GOLD_TEST: [], MODEL_TEST: []}}\n",
    "    test_id_keys = [key for key in problem_results.keys() if key.isdigit()]\n",
    "    for test_id in sorted(test_id_keys):\n",
    "        test_results = problem_results[test_id]\n",
    "        for i, code_test_results in test_results:\n",
    "            code_type = INITIAL_SOLUTION if code_test_results[COMPLETION_ID_KEY] == 0 else GOLD_CODE\n",
    "            test_type = GOLD_TEST if int(test_id) < 3 else MODEL_TEST\n",
    "            code_test_result = code_test_results[RESULT_FIELD]\n",
    "            if code_test_result is None:\n",
    "                print(f'Problem {problem_id}, test {test_id} has result None')\n",
    "            if 'is not defined' in code_test_result.lower():\n",
    "                # print(f'Problem {problem_id}, test {test_id} has defintion issues: {code_test_result}')\n",
    "                name_index = code_test_result.find('name')\n",
    "                if name_index != -1:\n",
    "                    space_index = code_test_result.find(' ', name_index)\n",
    "                    next_space_index = code_test_result.find(' ', space_index + 1)\n",
    "                    missing_name = code_test_result[space_index + 1:next_space_index]\n",
    "                    missing_names[missing_name.replace(\"'\", '')].add(problem_id)\n",
    "            if '<class' in code_test_result:\n",
    "                exception_class_index = code_test_result.find('<class')\n",
    "                exception_start = code_test_result.find(\"'\", exception_class_index)\n",
    "                exception_end = code_test_result.find(\"'\", exception_start + 1)\n",
    "                exception_type = code_test_result[exception_start + 1:exception_end]\n",
    "                exception_types[exception_type].add(problem_id)\n",
    "            code_test_passed = code_test_results[PASSED_FIELD]\n",
    "            if code_test_passed is None:\n",
    "                print(f'Problem {problem_id}, test {test_id} has passed None')\n",
    "                code_test_passed = False\n",
    "            problem_results_summary[code_type][test_type].append(code_test_passed)\n",
    "\n",
    "    all_problem_result_summaries.append(problem_results_summary)\n",
    "    for model_type in [INITIAL_SOLUTION, GOLD_CODE]:\n",
    "        for test_type in [GOLD_TEST, MODEL_TEST]:\n",
    "            model_problem_results = problem_results_summary[model_type][test_type]\n",
    "            if model_type == INITIAL_SOLUTION and test_type == GOLD_TEST:\n",
    "                model_problem_results = model_problem_results[1:]\n",
    "            accuracy_by_problem[model_type][test_type].append(np.mean(model_problem_results))\n",
    "            \n",
    "\n",
    "for model_key, key_results in accuracy_by_problem.items():\n",
    "    for test_key, test_key_results in key_results.items():\n",
    "        print(f'{model_key} {test_key} accuracy: {np.mean(test_key_results)}')\n",
    "\n",
    "\n",
    "num_model_tests_by_problem = [len(t[INITIAL_SOLUTION][MODEL_TEST]) for t in all_problem_result_summaries]\n",
    "print(np.mean(num_model_tests_by_problem), np.std(num_model_tests_by_problem), np.min(num_model_tests_by_problem), np.max(num_model_tests_by_problem))\n",
    "\n",
    "print('Problems with fewest model tests:')\n",
    "for problem_id in np.argsort(num_model_tests_by_problem)[:10]:\n",
    "    print(f'Problem {problem_id}: {num_model_tests_by_problem[problem_id]}')"
   ]
  },
  {
   "cell_type": "markdown",
   "metadata": {},
   "source": [
    "### Matched-pairs t-tests"
   ]
  },
  {
   "cell_type": "code",
   "execution_count": 26,
   "metadata": {},
   "outputs": [
    {
     "name": "stdout",
     "output_type": "stream",
     "text": [
      "For gold_test tests, model solution vs. gold code: -8.556, 0.000\n",
      "For model_test tests, model solution vs. gold code: 0.911, 0.363\n",
      "(array([0., 1., 2., 3.]), array([ 85,  26,  33, 245]))\n"
     ]
    }
   ],
   "source": [
    "for test_type in GOLD_TEST, MODEL_TEST:\n",
    "    model_solution_test_results = [rs[INITIAL_SOLUTION][test_type] for rs in all_problem_result_summaries]\n",
    "    gold_code_test_results = [rs[GOLD_CODE][test_type] for rs in all_problem_result_summaries]\n",
    "\n",
    "    model_solution_test_results = np.array([t for tl in model_solution_test_results for t in tl], dtype=float)\n",
    "    gold_code_test_results = np.array([t for tl in gold_code_test_results for t in tl], dtype=float)\n",
    "\n",
    "    result = stats.ttest_rel(model_solution_test_results, gold_code_test_results)\n",
    "    print(f'For {test_type} tests, model solution vs. gold code: {result.statistic:.3f}, {result.pvalue:.3f}')\n",
    "\n",
    "\n",
    "result_summary = (model_solution_test_results * 2) + gold_code_test_results\n",
    "print(np.unique(result_summary, return_counts=True))"
   ]
  },
  {
   "cell_type": "code",
   "execution_count": 7,
   "metadata": {},
   "outputs": [
    {
     "name": "stdout",
     "output_type": "stream",
     "text": [
      "Mean-min edit distance: 38.4\n",
      "Mean-mean edit distance: 62.542889550264555\n",
      "#0 (68) min edit distance: 1\n",
      "#1 (83) min edit distance: 1\n",
      "#2 (56) min edit distance: 1\n",
      "#3 (82) min edit distance: 1\n",
      "#4 (87) min edit distance: 2\n",
      "#5 (7) min edit distance: 2\n",
      "#6 (35) min edit distance: 3\n",
      "#7 (72) min edit distance: 3\n",
      "#8 (33) min edit distance: 3\n",
      "#9 (4) min edit distance: 3\n"
     ]
    }
   ],
   "source": [
    "edit_distances = []\n",
    "\n",
    "for i, output in enumerate(mbpp_outputs):\n",
    "    model_tests = set(output['model_test_cases'])\n",
    "    gold_tests = set(output['test_cases'])\n",
    "    intersection = model_tests.intersection(gold_tests)\n",
    "    if intersection:\n",
    "        print(f'Found overlapping tests in #{i}: {intersection}')\n",
    "\n",
    "    output_edit_distances = [\n",
    "        _edit_distance(model_test, gold_test)\n",
    "        for model_test in model_tests\n",
    "        for gold_test in gold_tests\n",
    "    ]\n",
    "    edit_distances.append(output_edit_distances)\n",
    "\n",
    "\n",
    "min_edit_distances = [min(dists) for dists in edit_distances]\n",
    "mean_edit_distances = [np.mean(dists) for dists in edit_distances]\n",
    "\n",
    "print(f'Mean-min edit distance: {np.mean(min_edit_distances)}')\n",
    "print(f'Mean-mean edit distance: {np.mean(mean_edit_distances)}')\n",
    "\n",
    "sorted_indices = np.argsort(min_edit_distances)\n",
    "for i in range(10):\n",
    "    idx = sorted_indices[i]\n",
    "    print(f'#{i} ({idx}) min edit distance: {min_edit_distances[idx]}')"
   ]
  },
  {
   "cell_type": "code",
   "execution_count": 8,
   "metadata": {},
   "outputs": [],
   "source": [
    "def visualize_outputs(index):\n",
    "    output = mbpp_outputs[index]\n",
    "    display(Markdown(f'Problem text: {output[\"text\"]}'))\n",
    "    \n",
    "    code_block_lines = [\n",
    "        '```python', \n",
    "        '# Gold code:', \n",
    "        output['gold_code'], \n",
    "        '',\n",
    "        '# Model code:',\n",
    "        output['initial_solution'],\n",
    "        '',\n",
    "    ]\n",
    "\n",
    "    for i, test in enumerate(output['test_cases']): \n",
    "        code_block_lines.append(f'# Gold Test #{i} (Gold passed = {all_problem_result_summaries[index][GOLD_CODE][GOLD_TEST][i]}, Model passed = {all_problem_result_summaries[index][INITIAL_SOLUTION][GOLD_TEST][i]}):')\n",
    "        code_block_lines.append(test)\n",
    "\n",
    "    code_block_lines.append('')\n",
    "\n",
    "    for i, test in enumerate(output['model_test_cases']):\n",
    "        code_block_lines.append(f'# Model Test #{i} (Gold passed = {all_problem_result_summaries[index][GOLD_CODE][MODEL_TEST][i]}, Model passed = {all_problem_result_summaries[index][INITIAL_SOLUTION][MODEL_TEST][i]}):')\n",
    "        code_block_lines.append(test)\n",
    "\n",
    "    code_block_lines.append('```')\n",
    "    display(Markdown('\\n'.join(code_block_lines)))"
   ]
  },
  {
   "cell_type": "code",
   "execution_count": 9,
   "metadata": {},
   "outputs": [
    {
     "name": "stdout",
     "output_type": "stream",
     "text": [
      "1 0.5 0.5\n",
      "2 0.0 0.4\n",
      "8 0.5 0.6666666666666666\n",
      "11 0.0 0.6666666666666666\n",
      "14 0.0 0.0\n",
      "16 0.0 0.0\n",
      "19 0.5 0.0\n",
      "25 0.0 0.0\n",
      "37 0.0 0.0\n",
      "39 0.0 0.0\n",
      "41 0.0 1.0\n",
      "42 0.5 0.3333333333333333\n",
      "46 0.0 0.6666666666666666\n",
      "51 0.0 0.6666666666666666\n",
      "59 0.0 1.0\n",
      "60 0.0 0.3333333333333333\n",
      "62 0.5 0.0\n",
      "67 0.0 0.3333333333333333\n",
      "68 0.5 0.9375\n",
      "69 0.0 0.6666666666666666\n",
      "70 0.5 0.5\n",
      "83 0.0 0.6666666666666666\n",
      "93 0.0 1.0\n",
      "98 0.0 0.75\n"
     ]
    },
    {
     "data": {
      "text/plain": [
       "Text(0.5, 1.0, '(Gold Code | Model Tests) Accuracy where (Model Code | Gold Tests) Accuracy < 1.0')"
      ]
     },
     "execution_count": 9,
     "metadata": {},
     "output_type": "execute_result"
    },
    {
     "data": {
      "image/png": "[encoded data removed]",
      "text/plain": [
       "<Figure size 640x480 with 1 Axes>"
      ]
     },
     "metadata": {},
     "output_type": "display_data"
    }
   ],
   "source": [
    "gold_code_model_test_accuracies = []\n",
    "\n",
    "\n",
    "for i, acc in enumerate(accuracy_by_problem[INITIAL_SOLUTION][GOLD_TEST]):\n",
    "    if acc != 1.0:\n",
    "        gold_code_model_test_acc = accuracy_by_problem[GOLD_CODE][MODEL_TEST][i]\n",
    "        print(i, acc,gold_code_model_test_acc )\n",
    "        gold_code_model_test_accuracies.append(gold_code_model_test_acc)\n",
    "\n",
    "plt.hist(gold_code_model_test_accuracies, bins=10)\n",
    "plt.title('(Gold Code | Model Tests) Accuracy where (Model Code | Gold Tests) Accuracy < 1.0')\n",
    "# accuracy_by_problem"
   ]
  },
  {
   "cell_type": "code",
   "execution_count": 10,
   "metadata": {},
   "outputs": [
    {
     "data": {
      "text/markdown": [
       "Problem text: Write a function to find average value of the numbers in a given tuple of tuples."
      ],
      "text/plain": [
       "<IPython.core.display.Markdown object>"
      ]
     },
     "metadata": {},
     "output_type": "display_data"
    },
    {
     "data": {
      "text/markdown": [
       "```python\n",
       "# Gold code:\n",
       "def average_tuple(nums):\r\n",
       "    result = [sum(x) / len(x) for x in zip(*nums)]\r\n",
       "    return result\n",
       "\n",
       "# Model code:\n",
       "def average_tuple(t):\n",
       "    return [sum(subtuple)/len(subtuple) for subtuple in t]\n",
       "\n",
       "# Gold Test #0 (Gold passed = True, Model passed = False):\n",
       "assert average_tuple(((10, 10, 10, 12), (30, 45, 56, 45), (81, 80, 39, 32), (1, 2, 3, 4)))==[30.5, 34.25, 27.0, 23.25]\n",
       "# Gold Test #1 (Gold passed = True, Model passed = False):\n",
       "assert average_tuple(((1, 1, -5), (30, -15, 56), (81, -60, -39), (-10, 2, 3)))== [25.5, -18.0, 3.75]\n",
       "# Gold Test #2 (Gold passed = True, Model passed = False):\n",
       "assert average_tuple( ((100, 100, 100, 120), (300, 450, 560, 450), (810, 800, 390, 320), (10, 20, 30, 40)))==[305.0, 342.5, 270.0, 232.5]\n",
       "\n",
       "# Model Test #0 (Gold passed = False, Model passed = False):\n",
       "assert average_tuple(((0,), (0, 0, 0, 0), (0, 0, 0, 0, 0))) == [0.0, 0.0, 0.0, 0.0, 0.0]\n",
       "# Model Test #1 (Gold passed = False, Model passed = True):\n",
       "assert average_tuple(((1, 2, 3), (4, 5, 6), (7, 8, 9))) == [2.0, 5.0, 8.0]\n",
       "# Model Test #2 (Gold passed = False, Model passed = False):\n",
       "assert average_tuple(((10, 20, 30, 40), (50, 60, 70, 80), (90, 100, 110, 120))) == [25.0, 55.0, 95.0, 115.0]\n",
       "```"
      ],
      "text/plain": [
       "<IPython.core.display.Markdown object>"
      ]
     },
     "metadata": {},
     "output_type": "display_data"
    }
   ],
   "source": [
    "visualize_outputs(14)\n"
   ]
  },
  {
   "cell_type": "code",
   "execution_count": 25,
   "metadata": {},
   "outputs": [
    {
     "data": {
      "text/plain": [
       "389"
      ]
     },
     "execution_count": 25,
     "metadata": {},
     "output_type": "execute_result"
    }
   ],
   "source": [
    "len(model_solution_test_results)"
   ]
  },
  {
   "cell_type": "code",
   "execution_count": 11,
   "metadata": {},
   "outputs": [
    {
     "name": "stdout",
     "output_type": "stream",
     "text": [
      "0 0.3333333333333333 0.0\n",
      "1 1.0 0.5\n",
      "4 1.0 0.0\n",
      "14 0.3333333333333333 0.0\n",
      "16 1.0 0.0\n",
      "25 0.3333333333333333 0.0\n",
      "27 1.0 0.6666666666666666\n",
      "37 0.3333333333333333 0.0\n",
      "39 1.0 0.0\n",
      "42 1.0 0.3333333333333333\n",
      "43 0.6666666666666666 0.3333333333333333\n",
      "47 1.0 0.6666666666666666\n",
      "48 1.0 0.6666666666666666\n",
      "62 0.3333333333333333 0.0\n",
      "69 1.0 0.6666666666666666\n",
      "79 1.0 0.6666666666666666\n",
      "82 1.0 0.3333333333333333\n"
     ]
    }
   ],
   "source": [
    "for i, acc in enumerate(accuracy_by_problem[INITIAL_SOLUTION][MODEL_TEST]):\n",
    "    gold_code_model_test_acc = accuracy_by_problem[GOLD_CODE][MODEL_TEST][i]\n",
    "    if acc > gold_code_model_test_acc:\n",
    "        print(i, acc, gold_code_model_test_acc)\n"
   ]
  },
  {
   "cell_type": "code",
   "execution_count": null,
   "metadata": {},
   "outputs": [],
   "source": [
    "visualize_outputs(48)\n"
   ]
  },
  {
   "cell_type": "code",
   "execution_count": null,
   "metadata": {},
   "outputs": [],
   "source": [
    "accuracy_by_solution_type = {k: np.mean(v) for k, v in accuracy_by_problem.items()}\n",
    "accuracy_by_solution_type"
   ]
  },
  {
   "cell_type": "code",
   "execution_count": null,
   "metadata": {},
   "outputs": [],
   "source": [
    "full_accuracy_rate_by_solution_type = {k: np.mean(np.array(v) == 1.0) for k, v in accuracy_by_problem.items()}\n",
    "full_accuracy_rate_by_solution_type"
   ]
  },
  {
   "cell_type": "code",
   "execution_count": null,
   "metadata": {},
   "outputs": [],
   "source": [
    "feedback_acuracy_change_by_problem = np.array([accuracy_by_problem[REFINEMENT][i] - accuracy_by_problem[INITIAL_SOLUTION][i] for i in range(len(accuracy_by_problem[REFINEMENT]))])\n",
    "feedback_change_indices = np.where(feedback_acuracy_change_by_problem != 0)[0]\n",
    "feedback_acuracy_change_by_problem[feedback_change_indices], feedback_change_indices, len(feedback_change_indices)"
   ]
  },
  {
   "cell_type": "code",
   "execution_count": null,
   "metadata": {},
   "outputs": [],
   "source": [
    "for i, delta in enumerate(feedback_acuracy_change_by_problem):\n",
    "    if delta < 0:\n",
    "        print(i, mbpp_outputs[i]['feedback'])"
   ]
  },
  {
   "cell_type": "code",
   "execution_count": null,
   "metadata": {},
   "outputs": [],
   "source": [
    "# SyntaxError, ZeroDivisionError, TypeError, NotImplementedError\n",
    "# Indices to re-check: 34, 52, 57, 85\n",
    "exception_types['SyntaxError']"
   ]
  },
  {
   "cell_type": "code",
   "execution_count": null,
   "metadata": {},
   "outputs": [],
   "source": [
    "i =57\n",
    "print(mbpp_outputs[i]['text'])\n",
    "print(mbpp_outputs[i]['initial_solution'])\n",
    "print(mbpp_outputs[i]['feedback'])\n",
    "print(mbpp_outputs[i]['refinement'])\n",
    "\n",
    "for test_id in TEST_ID_KEYS:\n",
    "    print(mbpp_outputs[i][f'test_list_{test_id}'])\n",
    "    results = [test_results[1]['result'] for test_results in mbpp_outputs[i][test_id]]\n",
    "    print(results)\n"
   ]
  },
  {
   "cell_type": "code",
   "execution_count": null,
   "metadata": {},
   "outputs": [],
   "source": [
    "import heapq\n",
    "\n",
    "def heap_sort(lst):\n",
    "    heap = []\n",
    "    for value in lst:\n",
    "        heapq.heappush(heap, value)\n",
    "    \n",
    "    ordered = []\n",
    "    while heap:\n",
    "        ordered.append(heapq.heappop(heap))\n",
    "    \n",
    "    return ordered\n",
    "\n",
    "assert heap_sort([1, 3, 5, 7, 9, 2, 4, 6, 8, 0])==[0, 1, 2, 3, 4, 5, 6, 7, 8, 9]\n",
    "assert heap_sort([25, 35, 22, 85, 14, 65, 75, 25, 58])==[14, 22, 25, 25, 35, 58, 65, 75, 85]\n",
    "assert heap_sort( [7, 1, 9, 5])==[1,5,7,9]\n"
   ]
  },
  {
   "cell_type": "code",
   "execution_count": null,
   "metadata": {},
   "outputs": [],
   "source": [
    "mbpp_outputs[i]['0']"
   ]
  },
  {
   "cell_type": "code",
   "execution_count": null,
   "metadata": {},
   "outputs": [],
   "source": [
    "plt.hist(feedback_acuracy_change_by_problem, bins=20)\n",
    "plt.show()\n",
    "plt.hist(feedback_acuracy_change_by_problem[feedback_change_indices])\n",
    "plt.title('Change in test pass rate after feedback')\n",
    "plt.ylabel('Count')\n",
    "plt.xlabel('Change in test pass rate')\n",
    "plt.show()"
   ]
  },
  {
   "cell_type": "code",
   "execution_count": null,
   "metadata": {},
   "outputs": [],
   "source": [
    "from evaluate import load\n",
    "import re\n",
    "code_eval = load(\"guydav/restrictedpython_code_eval\")\n",
    "markdown_pattern = re.compile(r\"```\\w*\")\n",
    "\n",
    "import os\n",
    "os.environ[\"HF_ALLOW_CODE_EVAL\"] = '1'\n",
    "\n",
    "ALLOWED_IMPORTS = ['typing', 'collections', 'math', 're', 'heapq', 'itertools', 'sys']\n",
    "DEFAULT_ADDITIONAL_GLOBALS = {\n",
    "    'all': all,\n",
    "    'dict': dict,\n",
    "    'filter': filter,\n",
    "    'map': map,\n",
    "    'max': max,\n",
    "    'min': min,\n",
    "    'sum': sum,\n",
    "    'enumerate': enumerate,\n",
    "    'reversed': reversed,\n",
    "    'iter': iter,\n",
    "}"
   ]
  },
  {
   "cell_type": "code",
   "execution_count": null,
   "metadata": {},
   "outputs": [],
   "source": [
    "\n",
    "\n",
    "# output = mbpp_outputs[95]\n",
    "output = copy.deepcopy(mbpp_outputs[52])\n",
    "\n",
    "model_test_cases = mbpp._parse_test_cases(output['feedback'])\n",
    "test_cases = [output[key] for key in ('test_list_0', 'test_list_1', 'test_list_2')] + model_test_cases\n",
    "solutions = [output['initial_solution'], output['gold_code']]\n",
    "solutions = [markdown_pattern.sub('', solution).strip() for solution in solutions]\n",
    "solutions = [solution.replace('(object)', '') for solution in solutions]\n",
    "if output['test_setup_code']:\n",
    "    solutions = ['\\n'.join([output['test_setup_code'], solution]) for solution in solutions]\n",
    "\n",
    "r = code_eval.compute(\n",
    "    references=test_cases, \n",
    "    predictions=[solutions] * len(test_cases), \n",
    "    k=[len(solutions)],\n",
    "    allowed_imports=ALLOWED_IMPORTS,\n",
    "    additional_globals=DEFAULT_ADDITIONAL_GLOBALS,\n",
    "    timeout=60,\n",
    "    allow_str_format=True,\n",
    "    allow_underscore_variable_names=True,\n",
    "    )[1]  # type: ignore\n",
    "\n",
    "r"
   ]
  }
 ],
 "metadata": {
  "kernelspec": {
   "display_name": "llm",
   "language": "python",
   "name": "python3"
  },
  "language_info": {
   "codemirror_mode": {
    "name": "ipython",
    "version": 3
   },
   "file_extension": ".py",
   "mimetype": "text/x-python",
   "name": "python",
   "nbconvert_exporter": "python",
   "pygments_lexer": "ipython3",
   "version": "3.10.11"
  },
  "orig_nbformat": 4
 },
 "nbformat": 4,
 "nbformat_minor": 2
}
